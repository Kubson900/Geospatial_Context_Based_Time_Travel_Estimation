{
 "cells": [
  {
   "metadata": {},
   "cell_type": "markdown",
   "source": "# Imports",
   "id": "b4aacb9a117b0c0e"
  },
  {
   "metadata": {
    "collapsed": true,
    "ExecuteTime": {
     "end_time": "2024-11-01T19:05:39.490936Z",
     "start_time": "2024-11-01T19:05:38.985535Z"
    }
   },
   "cell_type": "code",
   "source": [
    "from datetime import datetime\n",
    "\n",
    "import geopandas as gpd\n",
    "import pandas as pd\n",
    "from shapely import Point\n",
    "from tqdm.autonotebook import tqdm"
   ],
   "id": "bdfbe10d7b78509a",
   "outputs": [
    {
     "name": "stderr",
     "output_type": "stream",
     "text": [
      "C:\\Users\\Jakub\\AppData\\Local\\Temp\\ipykernel_33660\\2948975939.py:6: TqdmExperimentalWarning: Using `tqdm.autonotebook.tqdm` in notebook mode. Use `tqdm.tqdm` instead to force console mode (e.g. in jupyter console)\n",
      "  from tqdm.autonotebook import tqdm\n"
     ]
    }
   ],
   "execution_count": 1
  },
  {
   "metadata": {},
   "cell_type": "markdown",
   "source": "# Data Loading",
   "id": "c4c4734a2ee066cb"
  },
  {
   "metadata": {
    "collapsed": false,
    "ExecuteTime": {
     "end_time": "2024-11-01T19:05:40.655280Z",
     "start_time": "2024-11-01T19:05:39.569480Z"
    }
   },
   "cell_type": "code",
   "source": "df_porto_taxi = pd.read_parquet(\"data/porto_taxi.parquet\")",
   "id": "9de8e5b107122ccc",
   "outputs": [],
   "execution_count": 2
  },
  {
   "metadata": {
    "collapsed": false,
    "ExecuteTime": {
     "end_time": "2024-11-01T19:05:40.801572Z",
     "start_time": "2024-11-01T19:05:40.793348Z"
    }
   },
   "cell_type": "code",
   "source": "df_porto_taxi.head()",
   "id": "3842b7e7d42af29a",
   "outputs": [
    {
     "data": {
      "text/plain": [
       "      timestamp              trip_id call_type  origin_call  origin_stand  \\\n",
       "0  1.372637e+09  1372636854620000520         C          NaN           NaN   \n",
       "1  1.372637e+09  1372636854620000520         C          NaN           NaN   \n",
       "2  1.372637e+09  1372636854620000520         C          NaN           NaN   \n",
       "3  1.372637e+09  1372636854620000520         C          NaN           NaN   \n",
       "4  1.372637e+09  1372636854620000520         C          NaN           NaN   \n",
       "\n",
       "    taxi_id day_type      speed  longitude   latitude  \n",
       "0  20000520        A   4.117262  -8.574678  41.151951  \n",
       "1  20000520        A   4.117262  -8.575164  41.150934  \n",
       "2  20000520        A  43.896107  -8.577135  41.150232  \n",
       "3  20000520        A  46.919455  -8.579745  41.147316  \n",
       "4  20000520        A  31.447044  -8.579358  41.146173  "
      ],
      "text/html": [
       "<div>\n",
       "<style scoped>\n",
       "    .dataframe tbody tr th:only-of-type {\n",
       "        vertical-align: middle;\n",
       "    }\n",
       "\n",
       "    .dataframe tbody tr th {\n",
       "        vertical-align: top;\n",
       "    }\n",
       "\n",
       "    .dataframe thead th {\n",
       "        text-align: right;\n",
       "    }\n",
       "</style>\n",
       "<table border=\"1\" class=\"dataframe\">\n",
       "  <thead>\n",
       "    <tr style=\"text-align: right;\">\n",
       "      <th></th>\n",
       "      <th>timestamp</th>\n",
       "      <th>trip_id</th>\n",
       "      <th>call_type</th>\n",
       "      <th>origin_call</th>\n",
       "      <th>origin_stand</th>\n",
       "      <th>taxi_id</th>\n",
       "      <th>day_type</th>\n",
       "      <th>speed</th>\n",
       "      <th>longitude</th>\n",
       "      <th>latitude</th>\n",
       "    </tr>\n",
       "  </thead>\n",
       "  <tbody>\n",
       "    <tr>\n",
       "      <th>0</th>\n",
       "      <td>1.372637e+09</td>\n",
       "      <td>1372636854620000520</td>\n",
       "      <td>C</td>\n",
       "      <td>NaN</td>\n",
       "      <td>NaN</td>\n",
       "      <td>20000520</td>\n",
       "      <td>A</td>\n",
       "      <td>4.117262</td>\n",
       "      <td>-8.574678</td>\n",
       "      <td>41.151951</td>\n",
       "    </tr>\n",
       "    <tr>\n",
       "      <th>1</th>\n",
       "      <td>1.372637e+09</td>\n",
       "      <td>1372636854620000520</td>\n",
       "      <td>C</td>\n",
       "      <td>NaN</td>\n",
       "      <td>NaN</td>\n",
       "      <td>20000520</td>\n",
       "      <td>A</td>\n",
       "      <td>4.117262</td>\n",
       "      <td>-8.575164</td>\n",
       "      <td>41.150934</td>\n",
       "    </tr>\n",
       "    <tr>\n",
       "      <th>2</th>\n",
       "      <td>1.372637e+09</td>\n",
       "      <td>1372636854620000520</td>\n",
       "      <td>C</td>\n",
       "      <td>NaN</td>\n",
       "      <td>NaN</td>\n",
       "      <td>20000520</td>\n",
       "      <td>A</td>\n",
       "      <td>43.896107</td>\n",
       "      <td>-8.577135</td>\n",
       "      <td>41.150232</td>\n",
       "    </tr>\n",
       "    <tr>\n",
       "      <th>3</th>\n",
       "      <td>1.372637e+09</td>\n",
       "      <td>1372636854620000520</td>\n",
       "      <td>C</td>\n",
       "      <td>NaN</td>\n",
       "      <td>NaN</td>\n",
       "      <td>20000520</td>\n",
       "      <td>A</td>\n",
       "      <td>46.919455</td>\n",
       "      <td>-8.579745</td>\n",
       "      <td>41.147316</td>\n",
       "    </tr>\n",
       "    <tr>\n",
       "      <th>4</th>\n",
       "      <td>1.372637e+09</td>\n",
       "      <td>1372636854620000520</td>\n",
       "      <td>C</td>\n",
       "      <td>NaN</td>\n",
       "      <td>NaN</td>\n",
       "      <td>20000520</td>\n",
       "      <td>A</td>\n",
       "      <td>31.447044</td>\n",
       "      <td>-8.579358</td>\n",
       "      <td>41.146173</td>\n",
       "    </tr>\n",
       "  </tbody>\n",
       "</table>\n",
       "</div>"
      ]
     },
     "execution_count": 3,
     "metadata": {},
     "output_type": "execute_result"
    }
   ],
   "execution_count": 3
  },
  {
   "metadata": {
    "collapsed": false,
    "ExecuteTime": {
     "end_time": "2024-11-01T19:05:40.829257Z",
     "start_time": "2024-11-01T19:05:40.820736Z"
    }
   },
   "cell_type": "code",
   "source": "df_porto_taxi.info()",
   "id": "b0e9cf262417020a",
   "outputs": [
    {
     "name": "stdout",
     "output_type": "stream",
     "text": [
      "<class 'pandas.core.frame.DataFrame'>\n",
      "RangeIndex: 12722653 entries, 0 to 12722652\n",
      "Data columns (total 10 columns):\n",
      " #   Column        Dtype  \n",
      "---  ------        -----  \n",
      " 0   timestamp     float64\n",
      " 1   trip_id       int64  \n",
      " 2   call_type     object \n",
      " 3   origin_call   float64\n",
      " 4   origin_stand  float64\n",
      " 5   taxi_id       int64  \n",
      " 6   day_type      object \n",
      " 7   speed         float64\n",
      " 8   longitude     float64\n",
      " 9   latitude      float64\n",
      "dtypes: float64(6), int64(2), object(2)\n",
      "memory usage: 970.7+ MB\n"
     ]
    }
   ],
   "execution_count": 4
  },
  {
   "metadata": {},
   "cell_type": "markdown",
   "source": "# Data Processing",
   "id": "72ca2c810fbfb027"
  },
  {
   "metadata": {
    "ExecuteTime": {
     "end_time": "2024-11-01T19:05:41.802702Z",
     "start_time": "2024-11-01T19:05:41.799937Z"
    }
   },
   "cell_type": "code",
   "source": "tqdm.pandas()",
   "id": "ce99537e4e6c8184",
   "outputs": [],
   "execution_count": 5
  },
  {
   "metadata": {
    "ExecuteTime": {
     "end_time": "2024-11-01T19:05:53.237903Z",
     "start_time": "2024-11-01T19:05:42.305262Z"
    }
   },
   "cell_type": "code",
   "source": [
    "df_porto_taxi[\"timestamp\"] = df_porto_taxi[\"timestamp\"].progress_apply(\n",
    "    lambda x: datetime.fromtimestamp(x)\n",
    ")"
   ],
   "id": "a3399d223b0ac3cd",
   "outputs": [
    {
     "data": {
      "text/plain": [
       "  0%|          | 0/12722653 [00:00<?, ?it/s]"
      ],
      "application/vnd.jupyter.widget-view+json": {
       "version_major": 2,
       "version_minor": 0,
       "model_id": "b53a202b6f6a4a71b62c2eefac138805"
      }
     },
     "metadata": {},
     "output_type": "display_data"
    }
   ],
   "execution_count": 6
  },
  {
   "metadata": {
    "ExecuteTime": {
     "end_time": "2024-11-01T19:07:42.174315Z",
     "start_time": "2024-11-01T19:05:53.241414Z"
    }
   },
   "cell_type": "code",
   "source": [
    "df_porto_taxi[\"geometry\"] = df_porto_taxi.progress_apply(\n",
    "    lambda row: Point(row[\"longitude\"], row[\"latitude\"]), axis=1\n",
    ")"
   ],
   "id": "ca2d1dd587888a20",
   "outputs": [
    {
     "data": {
      "text/plain": [
       "  0%|          | 0/12722653 [00:00<?, ?it/s]"
      ],
      "application/vnd.jupyter.widget-view+json": {
       "version_major": 2,
       "version_minor": 0,
       "model_id": "3c607015c4da44c3ba088b4677edebf2"
      }
     },
     "metadata": {},
     "output_type": "display_data"
    }
   ],
   "execution_count": 7
  },
  {
   "metadata": {
    "ExecuteTime": {
     "end_time": "2024-11-01T19:07:42.628313Z",
     "start_time": "2024-11-01T19:07:42.181372Z"
    }
   },
   "cell_type": "code",
   "source": "df_porto_taxi.drop([\"longitude\", \"latitude\"], axis=1, inplace=True)",
   "id": "e1c1657c8d7991a7",
   "outputs": [],
   "execution_count": 8
  },
  {
   "metadata": {
    "ExecuteTime": {
     "end_time": "2024-11-01T19:07:51.425311Z",
     "start_time": "2024-11-01T19:07:42.635335Z"
    }
   },
   "cell_type": "code",
   "source": [
    "gdf_porto_taxi = gpd.GeoDataFrame(\n",
    "    data=df_porto_taxi, geometry=\"geometry\", crs=\"EPSG:4326\"\n",
    ")"
   ],
   "id": "61f2939fe6bcc9ad",
   "outputs": [],
   "execution_count": 9
  },
  {
   "metadata": {
    "ExecuteTime": {
     "end_time": "2024-11-01T19:07:51.437632Z",
     "start_time": "2024-11-01T19:07:51.431605Z"
    }
   },
   "cell_type": "code",
   "source": "gdf_porto_taxi.head()",
   "id": "75e7aa1de2db1981",
   "outputs": [
    {
     "data": {
      "text/plain": [
       "            timestamp              trip_id call_type  origin_call  \\\n",
       "0 2013-07-01 02:00:54  1372636854620000520         C          NaN   \n",
       "1 2013-07-01 02:02:39  1372636854620000520         C          NaN   \n",
       "2 2013-07-01 02:02:54  1372636854620000520         C          NaN   \n",
       "3 2013-07-01 02:03:24  1372636854620000520         C          NaN   \n",
       "4 2013-07-01 02:03:39  1372636854620000520         C          NaN   \n",
       "\n",
       "   origin_stand   taxi_id day_type      speed                   geometry  \n",
       "0           NaN  20000520        A   4.117262  POINT (-8.57468 41.15195)  \n",
       "1           NaN  20000520        A   4.117262  POINT (-8.57516 41.15093)  \n",
       "2           NaN  20000520        A  43.896107  POINT (-8.57714 41.15023)  \n",
       "3           NaN  20000520        A  46.919455  POINT (-8.57975 41.14732)  \n",
       "4           NaN  20000520        A  31.447044  POINT (-8.57936 41.14617)  "
      ],
      "text/html": [
       "<div>\n",
       "<style scoped>\n",
       "    .dataframe tbody tr th:only-of-type {\n",
       "        vertical-align: middle;\n",
       "    }\n",
       "\n",
       "    .dataframe tbody tr th {\n",
       "        vertical-align: top;\n",
       "    }\n",
       "\n",
       "    .dataframe thead th {\n",
       "        text-align: right;\n",
       "    }\n",
       "</style>\n",
       "<table border=\"1\" class=\"dataframe\">\n",
       "  <thead>\n",
       "    <tr style=\"text-align: right;\">\n",
       "      <th></th>\n",
       "      <th>timestamp</th>\n",
       "      <th>trip_id</th>\n",
       "      <th>call_type</th>\n",
       "      <th>origin_call</th>\n",
       "      <th>origin_stand</th>\n",
       "      <th>taxi_id</th>\n",
       "      <th>day_type</th>\n",
       "      <th>speed</th>\n",
       "      <th>geometry</th>\n",
       "    </tr>\n",
       "  </thead>\n",
       "  <tbody>\n",
       "    <tr>\n",
       "      <th>0</th>\n",
       "      <td>2013-07-01 02:00:54</td>\n",
       "      <td>1372636854620000520</td>\n",
       "      <td>C</td>\n",
       "      <td>NaN</td>\n",
       "      <td>NaN</td>\n",
       "      <td>20000520</td>\n",
       "      <td>A</td>\n",
       "      <td>4.117262</td>\n",
       "      <td>POINT (-8.57468 41.15195)</td>\n",
       "    </tr>\n",
       "    <tr>\n",
       "      <th>1</th>\n",
       "      <td>2013-07-01 02:02:39</td>\n",
       "      <td>1372636854620000520</td>\n",
       "      <td>C</td>\n",
       "      <td>NaN</td>\n",
       "      <td>NaN</td>\n",
       "      <td>20000520</td>\n",
       "      <td>A</td>\n",
       "      <td>4.117262</td>\n",
       "      <td>POINT (-8.57516 41.15093)</td>\n",
       "    </tr>\n",
       "    <tr>\n",
       "      <th>2</th>\n",
       "      <td>2013-07-01 02:02:54</td>\n",
       "      <td>1372636854620000520</td>\n",
       "      <td>C</td>\n",
       "      <td>NaN</td>\n",
       "      <td>NaN</td>\n",
       "      <td>20000520</td>\n",
       "      <td>A</td>\n",
       "      <td>43.896107</td>\n",
       "      <td>POINT (-8.57714 41.15023)</td>\n",
       "    </tr>\n",
       "    <tr>\n",
       "      <th>3</th>\n",
       "      <td>2013-07-01 02:03:24</td>\n",
       "      <td>1372636854620000520</td>\n",
       "      <td>C</td>\n",
       "      <td>NaN</td>\n",
       "      <td>NaN</td>\n",
       "      <td>20000520</td>\n",
       "      <td>A</td>\n",
       "      <td>46.919455</td>\n",
       "      <td>POINT (-8.57975 41.14732)</td>\n",
       "    </tr>\n",
       "    <tr>\n",
       "      <th>4</th>\n",
       "      <td>2013-07-01 02:03:39</td>\n",
       "      <td>1372636854620000520</td>\n",
       "      <td>C</td>\n",
       "      <td>NaN</td>\n",
       "      <td>NaN</td>\n",
       "      <td>20000520</td>\n",
       "      <td>A</td>\n",
       "      <td>31.447044</td>\n",
       "      <td>POINT (-8.57936 41.14617)</td>\n",
       "    </tr>\n",
       "  </tbody>\n",
       "</table>\n",
       "</div>"
      ]
     },
     "execution_count": 10,
     "metadata": {},
     "output_type": "execute_result"
    }
   ],
   "execution_count": 10
  }
 ],
 "metadata": {
  "kernelspec": {
   "display_name": "Python 3",
   "language": "python",
   "name": "python3"
  },
  "language_info": {
   "codemirror_mode": {
    "name": "ipython",
    "version": 2
   },
   "file_extension": ".py",
   "mimetype": "text/x-python",
   "name": "python",
   "nbconvert_exporter": "python",
   "pygments_lexer": "ipython2",
   "version": "2.7.6"
  }
 },
 "nbformat": 4,
 "nbformat_minor": 5
}
