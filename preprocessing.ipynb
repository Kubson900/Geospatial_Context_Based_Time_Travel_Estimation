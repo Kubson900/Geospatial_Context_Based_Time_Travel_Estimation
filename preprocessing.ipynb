{
 "cells": [
  {
   "metadata": {},
   "cell_type": "markdown",
   "source": "# Imports",
   "id": "38af36e815bbcdf7"
  },
  {
   "metadata": {
    "collapsed": true,
    "ExecuteTime": {
     "end_time": "2024-11-01T16:30:16.941225Z",
     "start_time": "2024-11-01T16:30:14.917006Z"
    }
   },
   "cell_type": "code",
   "source": [
    "import ast\n",
    "import gc\n",
    "import os.path\n",
    "import zipfile\n",
    "from datetime import datetime\n",
    "\n",
    "import geopandas as gpd\n",
    "import movingpandas as mpd\n",
    "import pandas as pd\n",
    "from shapely.geometry import LineString\n",
    "from shapely.geometry import Point\n",
    "from sklearn.model_selection import train_test_split\n",
    "from srai.regionalizers import geocode_to_region_gdf\n",
    "from tqdm.autonotebook import tqdm\n",
    "from tqdm.contrib.concurrent import process_map"
   ],
   "id": "46454271a148f400",
   "outputs": [
    {
     "name": "stderr",
     "output_type": "stream",
     "text": [
      "C:\\Users\\Jakub\\AppData\\Local\\Temp\\ipykernel_31368\\4292766932.py:14: TqdmExperimentalWarning: Using `tqdm.autonotebook.tqdm` in notebook mode. Use `tqdm.tqdm` instead to force console mode (e.g. in jupyter console)\n",
      "  from tqdm.autonotebook import tqdm\n"
     ]
    }
   ],
   "execution_count": 1
  },
  {
   "metadata": {
    "ExecuteTime": {
     "end_time": "2024-11-01T16:30:17.013836Z",
     "start_time": "2024-11-01T16:30:17.010973Z"
    }
   },
   "cell_type": "code",
   "source": "gpd.options.io_engine = \"pyogrio\"",
   "id": "3531ffe9f4b8b203",
   "outputs": [],
   "execution_count": 2
  },
  {
   "metadata": {},
   "cell_type": "markdown",
   "source": "# Parameters",
   "id": "7671e723575106a2"
  },
  {
   "metadata": {
    "ExecuteTime": {
     "end_time": "2024-11-01T16:30:17.133448Z",
     "start_time": "2024-11-01T16:30:17.130392Z"
    }
   },
   "cell_type": "code",
   "source": [
    "# trajectory length\n",
    "lower_limit = 20  # 5 minutes\n",
    "upper_limit = 240  # 1 hour\n",
    "\n",
    "# whole dataset (~1.5mln) is too big, have to use subset\n",
    "subset_size = 500_000\n",
    "\n",
    "# multiprocessing\n",
    "chunk_size = 1000\n",
    "num_workers = 20\n",
    "\n",
    "# outlier detection\n",
    "outlier_max_speed = 120\n",
    "\n",
    "# trajectory generalization\n",
    "generalization_tolerance = 0.0001"
   ],
   "id": "138b4da567e01c9d",
   "outputs": [],
   "execution_count": 3
  },
  {
   "metadata": {},
   "cell_type": "markdown",
   "source": "# Data Loading",
   "id": "3687af418a207d48"
  },
  {
   "metadata": {
    "collapsed": false,
    "ExecuteTime": {
     "end_time": "2024-11-01T16:30:17.151581Z",
     "start_time": "2024-11-01T16:30:17.146988Z"
    }
   },
   "cell_type": "code",
   "source": [
    "# https://www.kaggle.com/competitions/pkdd-15-taxi-trip-time-prediction-ii/data?select=train.csv.zip\n",
    "zipfile_porto_taxi = zipfile.ZipFile(file=\"data/train.csv.zip\")"
   ],
   "id": "a0fc127da0288a41",
   "outputs": [],
   "execution_count": 4
  },
  {
   "metadata": {
    "collapsed": false,
    "ExecuteTime": {
     "end_time": "2024-11-01T16:30:30.280808Z",
     "start_time": "2024-11-01T16:30:17.173509Z"
    }
   },
   "cell_type": "code",
   "source": "df_porto_taxi = pd.read_csv(zipfile_porto_taxi.open(\"train.csv\"))",
   "id": "ab1778e75dd8d6dc",
   "outputs": [],
   "execution_count": 5
  },
  {
   "metadata": {
    "collapsed": false,
    "ExecuteTime": {
     "end_time": "2024-11-01T16:30:32.263636Z",
     "start_time": "2024-11-01T16:30:32.260370Z"
    }
   },
   "cell_type": "code",
   "source": [
    "df_porto_taxi.rename(\n",
    "    columns={\n",
    "        \"TRIP_ID\": \"trip_id\",\n",
    "        \"CALL_TYPE\": \"call_type\",\n",
    "        \"ORIGIN_CALL\": \"origin_call\",\n",
    "        \"ORIGIN_STAND\": \"origin_stand\",\n",
    "        \"TAXI_ID\": \"taxi_id\",\n",
    "        \"TIMESTAMP\": \"timestamp\",\n",
    "        \"DAY_TYPE\": \"day_type\",\n",
    "        \"MISSING_DATA\": \"missing_data\",\n",
    "        \"POLYLINE\": \"geometry\",\n",
    "    },\n",
    "    inplace=True,\n",
    ")"
   ],
   "id": "5053251baa4e5bc3",
   "outputs": [],
   "execution_count": 6
  },
  {
   "metadata": {
    "collapsed": false,
    "ExecuteTime": {
     "end_time": "2024-11-01T16:30:32.335865Z",
     "start_time": "2024-11-01T16:30:32.327163Z"
    }
   },
   "cell_type": "code",
   "source": "df_porto_taxi.head()",
   "id": "3237638affe04a9c",
   "outputs": [
    {
     "data": {
      "text/plain": [
       "               trip_id call_type  origin_call  origin_stand   taxi_id  \\\n",
       "0  1372636858620000589         C          NaN           NaN  20000589   \n",
       "1  1372637303620000596         B          NaN           7.0  20000596   \n",
       "2  1372636951620000320         C          NaN           NaN  20000320   \n",
       "3  1372636854620000520         C          NaN           NaN  20000520   \n",
       "4  1372637091620000337         C          NaN           NaN  20000337   \n",
       "\n",
       "    timestamp day_type  missing_data  \\\n",
       "0  1372636858        A         False   \n",
       "1  1372637303        A         False   \n",
       "2  1372636951        A         False   \n",
       "3  1372636854        A         False   \n",
       "4  1372637091        A         False   \n",
       "\n",
       "                                            geometry  \n",
       "0  [[-8.618643,41.141412],[-8.618499,41.141376],[...  \n",
       "1  [[-8.639847,41.159826],[-8.640351,41.159871],[...  \n",
       "2  [[-8.612964,41.140359],[-8.613378,41.14035],[-...  \n",
       "3  [[-8.574678,41.151951],[-8.574705,41.151942],[...  \n",
       "4  [[-8.645994,41.18049],[-8.645949,41.180517],[-...  "
      ],
      "text/html": [
       "<div>\n",
       "<style scoped>\n",
       "    .dataframe tbody tr th:only-of-type {\n",
       "        vertical-align: middle;\n",
       "    }\n",
       "\n",
       "    .dataframe tbody tr th {\n",
       "        vertical-align: top;\n",
       "    }\n",
       "\n",
       "    .dataframe thead th {\n",
       "        text-align: right;\n",
       "    }\n",
       "</style>\n",
       "<table border=\"1\" class=\"dataframe\">\n",
       "  <thead>\n",
       "    <tr style=\"text-align: right;\">\n",
       "      <th></th>\n",
       "      <th>trip_id</th>\n",
       "      <th>call_type</th>\n",
       "      <th>origin_call</th>\n",
       "      <th>origin_stand</th>\n",
       "      <th>taxi_id</th>\n",
       "      <th>timestamp</th>\n",
       "      <th>day_type</th>\n",
       "      <th>missing_data</th>\n",
       "      <th>geometry</th>\n",
       "    </tr>\n",
       "  </thead>\n",
       "  <tbody>\n",
       "    <tr>\n",
       "      <th>0</th>\n",
       "      <td>1372636858620000589</td>\n",
       "      <td>C</td>\n",
       "      <td>NaN</td>\n",
       "      <td>NaN</td>\n",
       "      <td>20000589</td>\n",
       "      <td>1372636858</td>\n",
       "      <td>A</td>\n",
       "      <td>False</td>\n",
       "      <td>[[-8.618643,41.141412],[-8.618499,41.141376],[...</td>\n",
       "    </tr>\n",
       "    <tr>\n",
       "      <th>1</th>\n",
       "      <td>1372637303620000596</td>\n",
       "      <td>B</td>\n",
       "      <td>NaN</td>\n",
       "      <td>7.0</td>\n",
       "      <td>20000596</td>\n",
       "      <td>1372637303</td>\n",
       "      <td>A</td>\n",
       "      <td>False</td>\n",
       "      <td>[[-8.639847,41.159826],[-8.640351,41.159871],[...</td>\n",
       "    </tr>\n",
       "    <tr>\n",
       "      <th>2</th>\n",
       "      <td>1372636951620000320</td>\n",
       "      <td>C</td>\n",
       "      <td>NaN</td>\n",
       "      <td>NaN</td>\n",
       "      <td>20000320</td>\n",
       "      <td>1372636951</td>\n",
       "      <td>A</td>\n",
       "      <td>False</td>\n",
       "      <td>[[-8.612964,41.140359],[-8.613378,41.14035],[-...</td>\n",
       "    </tr>\n",
       "    <tr>\n",
       "      <th>3</th>\n",
       "      <td>1372636854620000520</td>\n",
       "      <td>C</td>\n",
       "      <td>NaN</td>\n",
       "      <td>NaN</td>\n",
       "      <td>20000520</td>\n",
       "      <td>1372636854</td>\n",
       "      <td>A</td>\n",
       "      <td>False</td>\n",
       "      <td>[[-8.574678,41.151951],[-8.574705,41.151942],[...</td>\n",
       "    </tr>\n",
       "    <tr>\n",
       "      <th>4</th>\n",
       "      <td>1372637091620000337</td>\n",
       "      <td>C</td>\n",
       "      <td>NaN</td>\n",
       "      <td>NaN</td>\n",
       "      <td>20000337</td>\n",
       "      <td>1372637091</td>\n",
       "      <td>A</td>\n",
       "      <td>False</td>\n",
       "      <td>[[-8.645994,41.18049],[-8.645949,41.180517],[-...</td>\n",
       "    </tr>\n",
       "  </tbody>\n",
       "</table>\n",
       "</div>"
      ]
     },
     "execution_count": 7,
     "metadata": {},
     "output_type": "execute_result"
    }
   ],
   "execution_count": 7
  },
  {
   "metadata": {},
   "cell_type": "markdown",
   "source": "# Remove missing data",
   "id": "e7e35b402c5ef31d"
  },
  {
   "metadata": {
    "collapsed": false,
    "ExecuteTime": {
     "end_time": "2024-11-01T16:30:32.548015Z",
     "start_time": "2024-11-01T16:30:32.484816Z"
    }
   },
   "cell_type": "code",
   "source": "df_porto_taxi = df_porto_taxi[df_porto_taxi[\"missing_data\"] == False]",
   "id": "dc4528348477305",
   "outputs": [],
   "execution_count": 8
  },
  {
   "metadata": {
    "collapsed": false,
    "ExecuteTime": {
     "end_time": "2024-11-01T16:30:34.075334Z",
     "start_time": "2024-11-01T16:30:34.013732Z"
    }
   },
   "cell_type": "code",
   "source": "df_porto_taxi.drop(\"missing_data\", axis=1, inplace=True)",
   "id": "842e01b2ccd5f1ca",
   "outputs": [],
   "execution_count": 9
  },
  {
   "metadata": {},
   "cell_type": "markdown",
   "source": "# Drop duplicates",
   "id": "e93e9648e8686186"
  },
  {
   "metadata": {
    "ExecuteTime": {
     "end_time": "2024-11-01T16:30:34.296549Z",
     "start_time": "2024-11-01T16:30:34.125504Z"
    }
   },
   "cell_type": "code",
   "source": "df_porto_taxi.drop_duplicates(subset=\"trip_id\", keep=False, inplace=True)",
   "id": "efa08e270479fdd8",
   "outputs": [],
   "execution_count": 10
  },
  {
   "metadata": {},
   "cell_type": "markdown",
   "source": "# Convert string to list",
   "id": "cdacb1d0ef4f31c7"
  },
  {
   "metadata": {
    "ExecuteTime": {
     "end_time": "2024-11-01T16:31:29.984677Z",
     "start_time": "2024-11-01T16:30:34.299552Z"
    }
   },
   "cell_type": "code",
   "source": [
    "df_porto_taxi[\"geometry\"] = process_map(\n",
    "    ast.literal_eval,\n",
    "    df_porto_taxi[\"geometry\"],\n",
    "    chunksize=chunk_size,\n",
    "    max_workers=num_workers,\n",
    ")"
   ],
   "id": "560bf37ed99339e",
   "outputs": [
    {
     "data": {
      "text/plain": [
       "  0%|          | 0/1710499 [00:00<?, ?it/s]"
      ],
      "application/vnd.jupyter.widget-view+json": {
       "version_major": 2,
       "version_minor": 0,
       "model_id": "b1fcd708f3e741dab11ef44cf5a2a705"
      }
     },
     "metadata": {},
     "output_type": "display_data"
    }
   ],
   "execution_count": 11
  },
  {
   "metadata": {},
   "cell_type": "markdown",
   "source": "# Calculate trajectory length",
   "id": "a2dc6e46f84893cd"
  },
  {
   "metadata": {
    "ExecuteTime": {
     "end_time": "2024-11-01T16:31:52.486163Z",
     "start_time": "2024-11-01T16:31:29.999530Z"
    }
   },
   "cell_type": "code",
   "source": [
    "df_porto_taxi[\"length\"] = process_map(\n",
    "    len, df_porto_taxi[\"geometry\"], chunksize=chunk_size, max_workers=num_workers\n",
    ")"
   ],
   "id": "700ad358e242a9f4",
   "outputs": [
    {
     "data": {
      "text/plain": [
       "  0%|          | 0/1710499 [00:00<?, ?it/s]"
      ],
      "application/vnd.jupyter.widget-view+json": {
       "version_major": 2,
       "version_minor": 0,
       "model_id": "6abee04d9022446794bdfc591ae4d556"
      }
     },
     "metadata": {},
     "output_type": "display_data"
    }
   ],
   "execution_count": 12
  },
  {
   "metadata": {
    "ExecuteTime": {
     "end_time": "2024-11-01T16:32:00.929396Z",
     "start_time": "2024-11-01T16:31:52.500502Z"
    }
   },
   "cell_type": "code",
   "source": [
    "\"\"\"\n",
    "The total travel time of the trip is defined as the (number of points-1) x 15 seconds\n",
    "\"\"\"\n",
    "\n",
    "df_porto_taxi = df_porto_taxi[\n",
    "    (df_porto_taxi[\"length\"] > lower_limit) & (df_porto_taxi[\"length\"] <= upper_limit)\n",
    "]"
   ],
   "id": "1bd55c0cad085871",
   "outputs": [],
   "execution_count": 13
  },
  {
   "metadata": {},
   "cell_type": "markdown",
   "source": [
    "# Create subset\n",
    "Due to the size of original dataset, subset needs to be created to avoid MemoryError"
   ],
   "id": "964dce6effc7138c"
  },
  {
   "metadata": {
    "ExecuteTime": {
     "end_time": "2024-11-01T16:32:01.848479Z",
     "start_time": "2024-11-01T16:32:00.942465Z"
    }
   },
   "cell_type": "code",
   "source": [
    "df_leftovers, df_porto_taxi_subset = train_test_split(\n",
    "    df_porto_taxi, test_size=subset_size, stratify=df_porto_taxi[\"length\"]\n",
    ")"
   ],
   "id": "1cc5873b6864cc08",
   "outputs": [],
   "execution_count": 14
  },
  {
   "metadata": {
    "ExecuteTime": {
     "end_time": "2024-11-01T16:32:01.953191Z",
     "start_time": "2024-11-01T16:32:01.868682Z"
    }
   },
   "cell_type": "code",
   "source": "df_porto_taxi_subset.drop(\"length\", axis=1, inplace=True)",
   "id": "af1ea7af6d039fd6",
   "outputs": [],
   "execution_count": 15
  },
  {
   "metadata": {},
   "cell_type": "markdown",
   "source": [
    "# Activate garbage collection\n",
    "Remove unused variables"
   ],
   "id": "a378bf527de3a649"
  },
  {
   "metadata": {
    "ExecuteTime": {
     "end_time": "2024-11-01T16:32:09.254134Z",
     "start_time": "2024-11-01T16:32:01.975397Z"
    }
   },
   "cell_type": "code",
   "source": [
    "del zipfile_porto_taxi\n",
    "del df_porto_taxi\n",
    "del df_leftovers\n",
    "\n",
    "gc.collect()"
   ],
   "id": "e58bd4e68d14bbb1",
   "outputs": [
    {
     "data": {
      "text/plain": [
       "19"
      ]
     },
     "execution_count": 16,
     "metadata": {},
     "output_type": "execute_result"
    }
   ],
   "execution_count": 16
  },
  {
   "metadata": {},
   "cell_type": "markdown",
   "source": "# Convert list to LineString",
   "id": "c49a34440b5e08e7"
  },
  {
   "metadata": {
    "ExecuteTime": {
     "end_time": "2024-11-01T16:32:18.562496Z",
     "start_time": "2024-11-01T16:32:09.265168Z"
    }
   },
   "cell_type": "code",
   "source": [
    "df_porto_taxi_subset[\"geometry\"] = process_map(\n",
    "    LineString,\n",
    "    df_porto_taxi_subset[\"geometry\"],\n",
    "    chunksize=chunk_size,\n",
    "    max_workers=num_workers,\n",
    ")"
   ],
   "id": "2a162c3e9faefb94",
   "outputs": [
    {
     "data": {
      "text/plain": [
       "  0%|          | 0/500000 [00:00<?, ?it/s]"
      ],
      "application/vnd.jupyter.widget-view+json": {
       "version_major": 2,
       "version_minor": 0,
       "model_id": "ba7ec38592a84425977db05a3ebaa919"
      }
     },
     "metadata": {},
     "output_type": "display_data"
    }
   ],
   "execution_count": 17
  },
  {
   "metadata": {},
   "cell_type": "markdown",
   "source": "# Convert LineString to Point",
   "id": "38938d2bf684e1c2"
  },
  {
   "metadata": {
    "ExecuteTime": {
     "end_time": "2024-11-01T16:36:31.337818Z",
     "start_time": "2024-11-01T16:32:18.571514Z"
    }
   },
   "cell_type": "code",
   "source": [
    "exploded_rows = []\n",
    "\n",
    "for idx, row in tqdm(\n",
    "    df_porto_taxi_subset.iterrows(), total=df_porto_taxi_subset.shape[0]\n",
    "):\n",
    "    start_timestamp = row.timestamp\n",
    "    current_timestamp = start_timestamp\n",
    "    for xy in row.geometry.coords:\n",
    "        point = Point(xy)\n",
    "        row_dict = row.to_dict()\n",
    "        row_dict[\"geometry\"] = point\n",
    "        row_dict[\"timestamp\"] = current_timestamp\n",
    "        current_timestamp += 15\n",
    "        exploded_rows.append(row_dict)"
   ],
   "id": "f0e6f2ee3d345f7c",
   "outputs": [
    {
     "data": {
      "text/plain": [
       "  0%|          | 0/500000 [00:00<?, ?it/s]"
      ],
      "application/vnd.jupyter.widget-view+json": {
       "version_major": 2,
       "version_minor": 0,
       "model_id": "f4b8239fb11f4408af777c46d4203315"
      }
     },
     "metadata": {},
     "output_type": "display_data"
    }
   ],
   "execution_count": 18
  },
  {
   "metadata": {},
   "cell_type": "markdown",
   "source": "# Create GeoDataFrame",
   "id": "fab69274bae5619f"
  },
  {
   "metadata": {
    "ExecuteTime": {
     "end_time": "2024-11-01T16:37:10.879255Z",
     "start_time": "2024-11-01T16:36:31.348345Z"
    }
   },
   "cell_type": "code",
   "source": [
    "gdf_porto_taxi_points = gpd.GeoDataFrame(\n",
    "    exploded_rows, geometry=\"geometry\", crs=\"EPSG:4326\"\n",
    ")"
   ],
   "id": "3a7cfa7ba73312",
   "outputs": [],
   "execution_count": 19
  },
  {
   "metadata": {
    "ExecuteTime": {
     "end_time": "2024-11-01T16:37:13.410738Z",
     "start_time": "2024-11-01T16:37:10.937360Z"
    }
   },
   "cell_type": "code",
   "source": [
    "del exploded_rows\n",
    "\n",
    "gc.collect()"
   ],
   "id": "bb1836e078454d2e",
   "outputs": [
    {
     "data": {
      "text/plain": [
       "18"
      ]
     },
     "execution_count": 20,
     "metadata": {},
     "output_type": "execute_result"
    }
   ],
   "execution_count": 20
  },
  {
   "metadata": {
    "ExecuteTime": {
     "end_time": "2024-11-01T16:37:28.390804Z",
     "start_time": "2024-11-01T16:37:13.425761Z"
    }
   },
   "cell_type": "code",
   "source": [
    "gdf_porto_taxi_points[\"timestamp\"] = gdf_porto_taxi_points[\"timestamp\"].apply(\n",
    "    lambda x: datetime.fromtimestamp(x)\n",
    ")"
   ],
   "id": "c2f91f30820d971a",
   "outputs": [],
   "execution_count": 21
  },
  {
   "metadata": {},
   "cell_type": "markdown",
   "source": "# Restricting to Porto Area",
   "id": "7143257734bad16e"
  },
  {
   "metadata": {
    "ExecuteTime": {
     "end_time": "2024-11-01T16:37:28.874712Z",
     "start_time": "2024-11-01T16:37:28.398690Z"
    }
   },
   "cell_type": "code",
   "source": "porto_area = geocode_to_region_gdf(\"Porto District, Portugal\")",
   "id": "f9e132b432b2dcfb",
   "outputs": [],
   "execution_count": 22
  },
  {
   "metadata": {
    "ExecuteTime": {
     "end_time": "2024-11-01T16:58:55.997576Z",
     "start_time": "2024-11-01T16:37:28.890787Z"
    }
   },
   "cell_type": "code",
   "source": "gdf_porto_taxi_points_inside_porto = gdf_porto_taxi_points.sjoin(porto_area)",
   "id": "ad6fb554a8b3fe",
   "outputs": [],
   "execution_count": 23
  },
  {
   "metadata": {
    "ExecuteTime": {
     "end_time": "2024-11-01T16:59:47.370817Z",
     "start_time": "2024-11-01T16:58:56.030263Z"
    }
   },
   "cell_type": "code",
   "source": [
    "gdf_merged = gdf_porto_taxi_points.merge(\n",
    "    gdf_porto_taxi_points_inside_porto, how=\"left\", indicator=True\n",
    ")\n",
    "df_porto_taxi_points_outside_porto = gdf_merged[gdf_merged[\"_merge\"] == \"left_only\"]"
   ],
   "id": "be671312e0db7938",
   "outputs": [],
   "execution_count": 24
  },
  {
   "metadata": {
    "ExecuteTime": {
     "end_time": "2024-11-01T16:59:47.396043Z",
     "start_time": "2024-11-01T16:59:47.392565Z"
    }
   },
   "cell_type": "code",
   "source": [
    "trajectories_outside_porto = list(\n",
    "    df_porto_taxi_points_outside_porto[\"trip_id\"].unique()\n",
    ")"
   ],
   "id": "f489ca176623fd15",
   "outputs": [],
   "execution_count": 25
  },
  {
   "metadata": {
    "ExecuteTime": {
     "end_time": "2024-11-01T16:59:49.524988Z",
     "start_time": "2024-11-01T16:59:47.416838Z"
    }
   },
   "cell_type": "code",
   "source": [
    "gdf_porto_taxi_points = gdf_porto_taxi_points[\n",
    "    ~gdf_porto_taxi_points[\"trip_id\"].isin(trajectories_outside_porto)\n",
    "]"
   ],
   "id": "52759199fba6f7ef",
   "outputs": [],
   "execution_count": 26
  },
  {
   "metadata": {},
   "cell_type": "markdown",
   "source": "# Trajectory Collection",
   "id": "cb63a9f260951216"
  },
  {
   "metadata": {
    "ExecuteTime": {
     "end_time": "2024-11-01T17:06:42.516110Z",
     "start_time": "2024-11-01T16:59:49.544669Z"
    }
   },
   "cell_type": "code",
   "source": [
    "trajectory_collection = mpd.TrajectoryCollection(\n",
    "    data=gdf_porto_taxi_points, traj_id_col=\"trip_id\", t=\"timestamp\"\n",
    ")"
   ],
   "id": "a3f8374de6720f3b",
   "outputs": [],
   "execution_count": 27
  },
  {
   "metadata": {},
   "cell_type": "markdown",
   "source": "### Speed calculation",
   "id": "fbef96ba1e9927aa"
  },
  {
   "metadata": {
    "ExecuteTime": {
     "end_time": "2024-11-01T17:13:13.854753Z",
     "start_time": "2024-11-01T17:06:42.552292Z"
    }
   },
   "cell_type": "code",
   "source": [
    "trajectory_collection.add_speed(\n",
    "    units=(\"km\", \"h\"), n_threads=num_workers, overwrite=True\n",
    ")"
   ],
   "id": "8884a549c885e9b8",
   "outputs": [
    {
     "data": {
      "text/plain": [
       "TrajectoryCollection with 498596 trajectories"
      ]
     },
     "execution_count": 28,
     "metadata": {},
     "output_type": "execute_result"
    }
   ],
   "execution_count": 28
  },
  {
   "metadata": {},
   "cell_type": "markdown",
   "source": "### Outliers removal",
   "id": "dbfc60170b1fdb7"
  },
  {
   "metadata": {
    "ExecuteTime": {
     "end_time": "2024-11-01T18:27:29.018988Z",
     "start_time": "2024-11-01T17:13:13.893389Z"
    }
   },
   "cell_type": "code",
   "source": [
    "trajectory_collection = mpd.OutlierCleaner(trajectory_collection).clean(\n",
    "    v_max=outlier_max_speed, units=(\"km\", \"h\")\n",
    ")"
   ],
   "id": "267279c38a772c05",
   "outputs": [],
   "execution_count": 29
  },
  {
   "metadata": {
    "ExecuteTime": {
     "end_time": "2024-11-01T18:27:29.628182Z",
     "start_time": "2024-11-01T18:27:29.074125Z"
    }
   },
   "cell_type": "code",
   "source": [
    "valid_trajectories = [\n",
    "    trajectory\n",
    "    for trajectory in trajectory_collection.trajectories\n",
    "    if trajectory.size() >= 2\n",
    "]"
   ],
   "id": "2534c486b3276cb",
   "outputs": [],
   "execution_count": 30
  },
  {
   "metadata": {
    "ExecuteTime": {
     "end_time": "2024-11-01T18:41:45.990931Z",
     "start_time": "2024-11-01T18:27:29.631689Z"
    }
   },
   "cell_type": "code",
   "source": [
    "valid_trajectory_collection = mpd.TrajectoryCollection(\n",
    "    data=valid_trajectories, traj_id_col=\"trip_id\", t=\"timestamp\"\n",
    ")"
   ],
   "id": "6822eea2be4eb11c",
   "outputs": [],
   "execution_count": 31
  },
  {
   "metadata": {},
   "cell_type": "markdown",
   "source": "### Generalization",
   "id": "75dcafe3457c894f"
  },
  {
   "metadata": {
    "ExecuteTime": {
     "end_time": "2024-11-01T18:54:00.760860Z",
     "start_time": "2024-11-01T18:41:46.048660Z"
    }
   },
   "cell_type": "code",
   "source": [
    "trajectory_collection = mpd.DouglasPeuckerGeneralizer(\n",
    "    valid_trajectory_collection\n",
    ").generalize(tolerance=generalization_tolerance)"
   ],
   "id": "c8c7775921006ec9",
   "outputs": [],
   "execution_count": 32
  },
  {
   "metadata": {},
   "cell_type": "markdown",
   "source": [
    "### Speed re-calculation\n",
    "It is not automatically calculated after outliers are removed"
   ],
   "id": "540a3e5c6ea9a2f2"
  },
  {
   "metadata": {
    "ExecuteTime": {
     "end_time": "2024-11-01T18:58:53.642700Z",
     "start_time": "2024-11-01T18:54:00.872061Z"
    }
   },
   "cell_type": "code",
   "source": [
    "trajectory_collection.add_speed(\n",
    "    units=(\"km\", \"h\"), n_threads=num_workers, overwrite=True\n",
    ")"
   ],
   "id": "bac652d41f41dc78",
   "outputs": [
    {
     "data": {
      "text/plain": [
       "TrajectoryCollection with 498594 trajectories"
      ]
     },
     "execution_count": 33,
     "metadata": {},
     "output_type": "execute_result"
    }
   ],
   "execution_count": 33
  },
  {
   "metadata": {},
   "cell_type": "markdown",
   "source": "# Conversion to Point GeoDataFrame",
   "id": "7e03d3460bcf0e59"
  },
  {
   "metadata": {
    "ExecuteTime": {
     "end_time": "2024-11-01T19:00:02.949496Z",
     "start_time": "2024-11-01T18:58:53.756812Z"
    }
   },
   "cell_type": "code",
   "source": [
    "gdf_trajectory_point_collection = trajectory_collection.to_point_gdf().sort_values(\n",
    "    by=[\"trip_id\", \"timestamp\"]\n",
    ")"
   ],
   "id": "e8f90468e247f0f0",
   "outputs": [],
   "execution_count": 34
  },
  {
   "metadata": {
    "ExecuteTime": {
     "end_time": "2024-11-01T19:00:03.005581Z",
     "start_time": "2024-11-01T19:00:02.982557Z"
    }
   },
   "cell_type": "code",
   "source": "gdf_trajectory_point_collection.reset_index(inplace=True)",
   "id": "9d4b1c1c8d42d11c",
   "outputs": [],
   "execution_count": 35
  },
  {
   "metadata": {},
   "cell_type": "markdown",
   "source": "# Adapt to Parquet format on HuggingFace",
   "id": "af9ee73776a3aae6"
  },
  {
   "metadata": {},
   "cell_type": "markdown",
   "source": "## Separate Point to x, y coordinates",
   "id": "af14df2ff4a341a9"
  },
  {
   "metadata": {
    "ExecuteTime": {
     "end_time": "2024-11-01T19:00:06.491489Z",
     "start_time": "2024-11-01T19:00:03.051447Z"
    }
   },
   "cell_type": "code",
   "source": [
    "gdf_trajectory_point_collection[\"longitude\"] = (\n",
    "    gdf_trajectory_point_collection.geometry.x\n",
    ")\n",
    "gdf_trajectory_point_collection[\"latitude\"] = gdf_trajectory_point_collection.geometry.y"
   ],
   "id": "435354ef20e7871d",
   "outputs": [],
   "execution_count": 36
  },
  {
   "metadata": {
    "ExecuteTime": {
     "end_time": "2024-11-01T19:00:07.233146Z",
     "start_time": "2024-11-01T19:00:06.521525Z"
    }
   },
   "cell_type": "code",
   "source": "gdf_trajectory_point_collection.drop(\"geometry\", axis=1, inplace=True)",
   "id": "d43c1ea4b992ebe8",
   "outputs": [],
   "execution_count": 37
  },
  {
   "metadata": {},
   "cell_type": "markdown",
   "source": "## Convert datetime to timestamp",
   "id": "ca0fd23a0f698179"
  },
  {
   "metadata": {
    "ExecuteTime": {
     "end_time": "2024-11-01T19:00:14.170292Z",
     "start_time": "2024-11-01T19:00:07.289552Z"
    }
   },
   "cell_type": "code",
   "source": [
    "gdf_trajectory_point_collection[\"timestamp\"] = gdf_trajectory_point_collection[\n",
    "    \"timestamp\"\n",
    "].apply(lambda x: datetime.timestamp(x))"
   ],
   "id": "c61cb96793c27ea",
   "outputs": [],
   "execution_count": 38
  },
  {
   "metadata": {},
   "cell_type": "markdown",
   "source": "# Save to parquet",
   "id": "804033acde33759"
  },
  {
   "metadata": {
    "ExecuteTime": {
     "end_time": "2024-11-01T19:00:18.407895Z",
     "start_time": "2024-11-01T19:00:14.173801Z"
    }
   },
   "cell_type": "code",
   "source": "gdf_trajectory_point_collection.to_parquet(os.path.join(\"data\", \"porto_taxi.parquet\"))",
   "id": "106ea5b7e63d97f8",
   "outputs": [],
   "execution_count": 39
  }
 ],
 "metadata": {
  "kernelspec": {
   "display_name": "Python 3",
   "language": "python",
   "name": "python3"
  },
  "language_info": {
   "codemirror_mode": {
    "name": "ipython",
    "version": 2
   },
   "file_extension": ".py",
   "mimetype": "text/x-python",
   "name": "python",
   "nbconvert_exporter": "python",
   "pygments_lexer": "ipython2",
   "version": "2.7.6"
  }
 },
 "nbformat": 4,
 "nbformat_minor": 5
}
